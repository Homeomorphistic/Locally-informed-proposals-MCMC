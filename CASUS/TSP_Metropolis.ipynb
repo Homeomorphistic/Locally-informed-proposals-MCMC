{
  "nbformat": 4,
  "nbformat_minor": 0,
  "metadata": {
    "colab": {
      "provenance": [],
      "collapsed_sections": []
    },
    "kernelspec": {
      "name": "python3",
      "display_name": "Python 3"
    }
  },
  "cells": [
    {
      "cell_type": "code",
      "metadata": {
        "id": "KwpUUrImZBrs"
      },
      "source": [
        "import numpy as np\n",
        "import matplotlib.pyplot as plt\n",
        "import copy as cp\n",
        "import pandas as pd\n",
        "import inspect\n",
        "import urllib.request\n",
        "import re\n",
        "from collections import Counter\n",
        "import string; \n",
        "\n",
        "from itertools import combinations, count\n",
        "from sklearn.mixture import GaussianMixture\n"
      ],
      "execution_count": 242,
      "outputs": []
    },
    {
      "cell_type": "markdown",
      "metadata": {
        "id": "b39knPjLoZIW"
      },
      "source": [
        "# TSP\n"
      ]
    },
    {
      "cell_type": "code",
      "source": [],
      "metadata": {
        "id": "DGBdYI874K5n"
      },
      "execution_count": null,
      "outputs": []
    },
    {
      "cell_type": "markdown",
      "source": [
        "## Przyklad M1 -- 13 miast"
      ],
      "metadata": {
        "id": "GuU2dq594LbP"
      }
    },
    {
      "cell_type": "markdown",
      "metadata": {
        "id": "gfIohuhjpCtE"
      },
      "source": [
        "We are given 13 cities in US:\n",
        "\n",
        "![13 cities in US](https://raw.githubusercontent.com/lorek/datasets/master/tsp_13cities.png)"
      ]
    },
    {
      "cell_type": "code",
      "metadata": {
        "id": "kWz4N_ZkpFtm"
      },
      "source": [],
      "execution_count": 4,
      "outputs": []
    },
    {
      "cell_type": "markdown",
      "metadata": {
        "id": "CWcHaYnvpx_5"
      },
      "source": [
        "The distances between each of them (they are numbered somehow) are given in a matrix M (miles?)"
      ]
    },
    {
      "cell_type": "code",
      "metadata": {
        "id": "M8CHzKYAp4r7"
      },
      "source": [
        "M1=np.array([\n",
        "        [0, 2451, 713, 1018, 1631, 1374, 2408, 213, 2571, 875, 1420, 2145, 1972],\n",
        "        [2451, 0, 1745, 1524, 831, 1240, 959, 2596, 403, 1589, 1374, 357, 579],\n",
        "        [713, 1745, 0, 355, 920, 803, 1737, 851, 1858, 262, 940, 1453, 1260],\n",
        "        [1018, 1524, 355, 0, 700, 862, 1395, 1123, 1584, 466, 1056, 1280, 987],\n",
        "        [1631, 831, 920, 700, 0, 663, 1021, 1769, 949, 796, 879, 586, 371],\n",
        "        [1374, 1240, 803, 862, 663, 0, 1681, 1551, 1765, 547, 225, 887, 999],\n",
        "        [2408, 959, 1737, 1395, 1021, 1681, 0, 2493, 678, 1724, 1891, 1114, 701],\n",
        "        [213, 2596, 851, 1123, 1769, 1551, 2493, 0, 2699, 1038, 1605, 2300, 2099],\n",
        "        [2571, 403, 1858, 1584, 949, 1765, 678, 2699, 0, 1744, 1645, 653, 600],\n",
        "        [875, 1589, 262, 466, 796, 547, 1724, 1038, 1744, 0, 679, 1272, 1162],\n",
        "        [1420, 1374, 940, 1056, 879, 225, 1891, 1605, 1645, 679, 0, 1017, 1200],\n",
        "        [2145, 357, 1453, 1280, 586, 887, 1114, 2300, 653, 1272, 1017, 0, 504],\n",
        "        [1972, 579, 1260, 987, 371, 999, 701, 2099, 600, 1162, 1200, 504, 0],\n",
        "    ])\n",
        " "
      ],
      "execution_count": 5,
      "outputs": []
    },
    {
      "cell_type": "code",
      "source": [],
      "metadata": {
        "id": "kjmHOqga2YQ-"
      },
      "execution_count": null,
      "outputs": []
    },
    {
      "cell_type": "markdown",
      "source": [
        "## Przyklad M2 -- 47 miast"
      ],
      "metadata": {
        "id": "OWjcXsu84QNQ"
      }
    },
    {
      "cell_type": "markdown",
      "source": [
        "Wczytujemy wieksza M, 47x47"
      ],
      "metadata": {
        "id": "QkZmFNR32jLd"
      }
    },
    {
      "cell_type": "code",
      "source": [
        "url='https://raw.githubusercontent.com/lorek/datasets/master/att48_d_v2.csv'\n",
        "df = pd.read_csv(url, index_col=0)\n",
        "M2=df.to_numpy()\n"
      ],
      "metadata": {
        "id": "3yQASOKC2YTa"
      },
      "execution_count": 187,
      "outputs": []
    },
    {
      "cell_type": "code",
      "source": [],
      "metadata": {
        "id": "6H99tO4d3K_T"
      },
      "execution_count": null,
      "outputs": []
    },
    {
      "cell_type": "markdown",
      "source": [
        "## Przyklad M3 -- sztuczny mieszanka 3 gaussow"
      ],
      "metadata": {
        "id": "nMTAzNfk4T7n"
      }
    },
    {
      "cell_type": "code",
      "source": [
        "N = 250\n",
        "N1=int(N/3)\n",
        "Nf=N-2*N1\n",
        "\n",
        "gr1_mean=np.array([100,600])\n",
        "gr1_cov = np.array([[6000,1000],[1000,6000]])\n",
        "pnts=np.random.multivariate_normal(gr1_mean,gr1_cov, N1)\n",
        "print(pnts.shape)\n",
        "gr2_mean=np.array([680,1240])\n",
        "gr2_cov = np.array([[9000,5000],[5000,9000]])\n",
        "pnts2=np.random.multivariate_normal(gr2_mean,gr2_cov, N1)\n",
        "\n",
        "pnts=np.concatenate((pnts,pnts2),axis=0)\n",
        "print(pnts.shape)\n",
        "gr3_mean=np.array([400,40])\n",
        "gr3_cov = np.array([[3000,2000],[2000,3000]])\n",
        "pnts3=np.random.multivariate_normal(gr3_mean,gr3_cov, Nf)\n",
        "\n",
        "pnts=np.concatenate((pnts,pnts3),axis=0)\n",
        "print(pnts.shape)\n",
        "\n",
        "#np.random.shuffle(pnts)"
      ],
      "metadata": {
        "colab": {
          "base_uri": "https://localhost:8080/"
        },
        "id": "LcYInYYH3LSC",
        "outputId": "cd688a70-9b71-4e18-9345-d2f478f6bbaa"
      },
      "execution_count": 444,
      "outputs": [
        {
          "output_type": "stream",
          "name": "stdout",
          "text": [
            "(83, 2)\n",
            "(166, 2)\n",
            "(250, 2)\n"
          ]
        }
      ]
    },
    {
      "cell_type": "code",
      "source": [
        "\n",
        "plt.scatter(pnts[:,0], pnts[:,1])"
      ],
      "metadata": {
        "colab": {
          "base_uri": "https://localhost:8080/",
          "height": 283
        },
        "id": "oQ4JtnsW3RXA",
        "outputId": "439d413e-5af0-4ec8-8f3a-1465f9d8dd5f"
      },
      "execution_count": 445,
      "outputs": [
        {
          "output_type": "execute_result",
          "data": {
            "text/plain": [
              "<matplotlib.collections.PathCollection at 0x7f05a33a9b50>"
            ]
          },
          "metadata": {},
          "execution_count": 445
        },
        {
          "output_type": "display_data",
          "data": {
            "text/plain": [
              "<Figure size 432x288 with 1 Axes>"
            ],
            "image/png": "[encoded data removed]"
          },
          "metadata": {
            "needs_background": "light"
          }
        }
      ]
    },
    {
      "cell_type": "markdown",
      "source": [
        "# z powyzszych punktow tworzymy M3"
      ],
      "metadata": {
        "id": "nawVCnVq8qnk"
      }
    },
    {
      "cell_type": "code",
      "source": [
        "M3=np.zeros((N,N))\n",
        "for x in np.arange(N):\n",
        "  for y in np.arange(x+1,N):\n",
        "    M3[x,y]=np.round(np.sqrt(np.sum((pnts[x,:]-pnts[y,:])**2)),2)\n",
        "    M3[y,x]=M3[x,y]\n"
      ],
      "metadata": {
        "id": "0e0U_KwL3RcQ"
      },
      "execution_count": 446,
      "outputs": []
    },
    {
      "cell_type": "code",
      "source": [
        " "
      ],
      "metadata": {
        "id": "aAqFd99U7oPd"
      },
      "execution_count": 446,
      "outputs": []
    },
    {
      "cell_type": "markdown",
      "source": [
        "**TUTAJ USTALAMY DE FACTO CO TO ZA PRZYKLAD:**\n",
        "\n",
        "\n"
      ],
      "metadata": {
        "id": "vUyPCIPj3Rpb"
      }
    },
    {
      "cell_type": "code",
      "source": [
        "M=M3\n",
        "n=M.shape[0]"
      ],
      "metadata": {
        "id": "Zsf4NO1x8-bh"
      },
      "execution_count": 447,
      "outputs": []
    },
    {
      "cell_type": "markdown",
      "metadata": {
        "id": "uZNKn-SOqCCI"
      },
      "source": [
        "Fix some permutation -- the orderding a salesman visits the cities:\n",
        "\n",
        "$$f(\\sigma)=\\sum_{k=1}^{n-1}M(\\sigma_k, \\sigma_{k+1})+M(\\sigma_n,\\sigma_1).$$\n",
        "  We aim at $\\textrm{argmin}f(\\sigma)$ -- need to come up with some $\\pi(\\sigma)$, such that \n",
        "  $$\\sigma^*=\\textrm{argmax}_{\\sigma} \\pi(\\sigma),$$"
      ]
    },
    {
      "cell_type": "code",
      "source": [
        "n"
      ],
      "metadata": {
        "colab": {
          "base_uri": "https://localhost:8080/"
        },
        "id": "7hjyc4P-nRgh",
        "outputId": "154ed18a-51de-40bd-fdbc-79593bc9c308"
      },
      "execution_count": 448,
      "outputs": [
        {
          "output_type": "execute_result",
          "data": {
            "text/plain": [
              "250"
            ]
          },
          "metadata": {},
          "execution_count": 448
        }
      ]
    },
    {
      "cell_type": "code",
      "source": [
        "def calc_dist(M,sigma):\n",
        "# a function computing total distance of a salesman\n",
        "# with given M and sigma\n",
        "# aka f(sigma)\n",
        "\tn=np.shape(sigma)[0];\n",
        "\tfsum=0;\n",
        "\tfor i in np.arange(0,n-1):\t\t\n",
        "\t\tfsum = fsum + M[sigma[i],sigma[i+1]]\t\t\n",
        "\tfsum = fsum + M[sigma[n-1],sigma[0]]\n",
        "\treturn fsum"
      ],
      "metadata": {
        "id": "eoPYGhRdqhAS"
      },
      "execution_count": 449,
      "outputs": []
    },
    {
      "cell_type": "code",
      "source": [
        "#Try several random permutations:\n",
        "np.random.seed(1234)\n",
        "dist_avg=0\n",
        "nr_iter=10\n",
        "for i in np.arange(nr_iter):\n",
        "  sigma=np.random.permutation(n);\n",
        "  dist = calc_dist(M,sigma)\n",
        "  print(\"iter \", i, \", dist = \", dist)\n",
        "  dist_avg += dist\n",
        "dist_avg=dist_avg/nr_iter\n",
        "print(\"Average dist = \", np.round(dist_avg,2))"
      ],
      "metadata": {
        "colab": {
          "base_uri": "https://localhost:8080/"
        },
        "id": "jM398Shu0dQz",
        "outputId": "ae6d779d-2bcc-4318-aea1-33fb2df3839c"
      },
      "execution_count": 450,
      "outputs": [
        {
          "output_type": "stream",
          "name": "stdout",
          "text": [
            "iter  0 , dist =  160056.80000000005\n",
            "iter  1 , dist =  169925.03999999995\n",
            "iter  2 , dist =  161562.30000000013\n",
            "iter  3 , dist =  163905.10000000003\n",
            "iter  4 , dist =  170707.24999999988\n",
            "iter  5 , dist =  162390.46999999997\n",
            "iter  6 , dist =  163521.14999999988\n",
            "iter  7 , dist =  154442.6\n",
            "iter  8 , dist =  169795.88999999987\n",
            "iter  9 , dist =  165459.39000000013\n",
            "Average dist =  164176.6\n"
          ]
        }
      ]
    },
    {
      "cell_type": "markdown",
      "source": [
        "Mapowanie: pary -> integerow pairs2ints, \n",
        "tworzymy ${n\\choose 2}$ par (0,1), (0,2),, itd i kazda para (i,j)->k\n",
        "\n",
        "Mapowanie odwrotne ints2pairs(k)->(i,j)"
      ],
      "metadata": {
        "id": "cHMLc0TUqhTA"
      }
    },
    {
      "cell_type": "code",
      "source": [
        "pairs2ints = dict(zip(combinations(range(n), 2), count()))\n",
        "ints2pairs = {pairs2ints[k] : k for k in pairs2ints}"
      ],
      "metadata": {
        "id": "aLIuigxhnTBQ"
      },
      "execution_count": 451,
      "outputs": []
    },
    {
      "cell_type": "code",
      "source": [
        "print(pairs2ints[(0,1)], pairs2ints[(0,2)], pairs2ints[(5,8)], pairs2ints[(11,12)])\n"
      ],
      "metadata": {
        "colab": {
          "base_uri": "https://localhost:8080/"
        },
        "id": "fPrGMS4jnTDe",
        "outputId": "35ab27c6-b635-4cd2-d00e-1028d2032582"
      },
      "execution_count": 452,
      "outputs": [
        {
          "output_type": "stream",
          "name": "stdout",
          "text": [
            "0 1 1237 2684\n"
          ]
        }
      ]
    },
    {
      "cell_type": "code",
      "source": [
        "print(ints2pairs[0],ints2pairs[1],ints2pairs[52],ints2pairs[77])"
      ],
      "metadata": {
        "colab": {
          "base_uri": "https://localhost:8080/"
        },
        "id": "tBRc9PLRp9bE",
        "outputId": "99f6e262-a59b-4e7b-f2d8-cff7f7fc316d"
      },
      "execution_count": 453,
      "outputs": [
        {
          "output_type": "stream",
          "name": "stdout",
          "text": [
            "(0, 1) (0, 2) (0, 53) (0, 78)\n"
          ]
        }
      ]
    },
    {
      "cell_type": "code",
      "source": [
        "n_pairs=len(pairs2ints)"
      ],
      "metadata": {
        "id": "2To9sgIjp_Ak"
      },
      "execution_count": 454,
      "outputs": []
    },
    {
      "cell_type": "code",
      "source": [
        "#powinno byc to samo:\n",
        "print(n_pairs, int(n*(n-1)/2))\n"
      ],
      "metadata": {
        "colab": {
          "base_uri": "https://localhost:8080/"
        },
        "id": "13vdvqGqnTGX",
        "outputId": "525b02c1-29b3-469c-b729-623f8cbeb111"
      },
      "execution_count": 455,
      "outputs": [
        {
          "output_type": "stream",
          "name": "stdout",
          "text": [
            "31125 31125\n"
          ]
        }
      ]
    },
    {
      "cell_type": "code",
      "source": [
        "distribution_on_pairs_uniform=np.ones(n_pairs)/n_pairs;"
      ],
      "metadata": {
        "id": "2THBfTHjpYNd"
      },
      "execution_count": 456,
      "outputs": []
    },
    {
      "cell_type": "code",
      "source": [
        "plt.scatter(np.arange(n_pairs),distribution_on_pairs_uniform,s=1)"
      ],
      "metadata": {
        "colab": {
          "base_uri": "https://localhost:8080/",
          "height": 294
        },
        "id": "rwoIPX3csmXw",
        "outputId": "95ac604c-c204-47a7-ab65-223bf075c23d"
      },
      "execution_count": 457,
      "outputs": [
        {
          "output_type": "execute_result",
          "data": {
            "text/plain": [
              "<matplotlib.collections.PathCollection at 0x7f05a572c510>"
            ]
          },
          "metadata": {},
          "execution_count": 457
        },
        {
          "output_type": "display_data",
          "data": {
            "text/plain": [
              "<Figure size 432x288 with 1 Axes>"
            ],
            "image/png": "[encoded data removed]"
          },
          "metadata": {
            "needs_background": "light"
          }
        }
      ]
    },
    {
      "cell_type": "code",
      "source": [
        "#przyklad:\n",
        "\n",
        "nr_rand=np.random.choice(n_pairs,1,p=distribution_on_pairs_uniform)[0]\n",
        "i,j=ints2pairs[nr_rand]\n",
        "print(\"(i,j) = \",i,j)"
      ],
      "metadata": {
        "colab": {
          "base_uri": "https://localhost:8080/"
        },
        "id": "0_wA72kGsS_9",
        "outputId": "a09333d3-d684-4e31-ffbf-673aa4bce11f"
      },
      "execution_count": 458,
      "outputs": [
        {
          "output_type": "stream",
          "name": "stdout",
          "text": [
            "(i,j) =  58 204\n"
          ]
        }
      ]
    },
    {
      "cell_type": "code",
      "source": [
        "def softmax(x, tau):\n",
        "    e_x = np.exp(x/tau)\n",
        "    return e_x / e_x.sum(axis=0)  \n",
        "\n",
        "def softmax2(x, tau=1):\n",
        "    e_x = np.exp((x-np.max(x))/tau)\n",
        "    return e_x / e_x.sum(axis=0)  "
      ],
      "metadata": {
        "id": "qsmDT0ZCzjJn"
      },
      "execution_count": 459,
      "outputs": []
    },
    {
      "cell_type": "code",
      "source": [],
      "metadata": {
        "id": "W9KWm-qzsgAS"
      },
      "execution_count": 459,
      "outputs": []
    },
    {
      "cell_type": "code",
      "source": [
        "distribution_on_pairs_ver1=np.zeros(n_pairs)\n",
        "tau= np.mean(M)\n",
        "for r in np.arange(n_pairs):\n",
        "  i,j = ints2pairs[r];\n",
        "  distribution_on_pairs_ver1[r] = np.exp(-M[i,j]/tau)\n",
        "\n",
        "# softmax\n",
        "\n",
        "distribution_on_pairs_ver1=softmax2(distribution_on_pairs_ver1,0.1)\n",
        "distribution_on_pairs_ver1 = distribution_on_pairs_ver1 + np.ones(n_pairs)/n**2\n",
        "distribution_on_pairs_ver1=softmax2(distribution_on_pairs_ver1)\n",
        "plt.scatter(np.arange(n_pairs),distribution_on_pairs_ver1,s=1)\n",
        "np.sum(distribution_on_pairs_ver1)"
      ],
      "metadata": {
        "colab": {
          "base_uri": "https://localhost:8080/",
          "height": 294
        },
        "id": "kM9txFvZsgG9",
        "outputId": "fdb7161c-b13a-457d-d94e-cb9ad6ab0a18"
      },
      "execution_count": 464,
      "outputs": [
        {
          "output_type": "execute_result",
          "data": {
            "text/plain": [
              "1.0"
            ]
          },
          "metadata": {},
          "execution_count": 464
        },
        {
          "output_type": "display_data",
          "data": {
            "text/plain": [
              "<Figure size 432x288 with 1 Axes>"
            ],
            "image/png": "[encoded data removed]"
          },
          "metadata": {
            "needs_background": "light"
          }
        }
      ]
    },
    {
      "cell_type": "markdown",
      "metadata": {
        "id": "uwHevyS6tecc"
      },
      "source": [
        "### The Metropolis algorithm for TSP\n",
        "start with some random $\\sigma$"
      ]
    },
    {
      "cell_type": "code",
      "metadata": {
        "id": "dQF3kwjEtkHf",
        "colab": {
          "base_uri": "https://localhost:8080/",
          "height": 826
        },
        "outputId": "0be86adb-4810-4d52-ca77-e0e4e608b639"
      },
      "source": [
        "sigma=np.random.permutation(n);\n",
        "#np.random.seed()\n",
        "\n",
        "R = 10**3\n",
        "tau=0.2\n",
        "#0.02\n",
        "\n",
        "\n",
        "chosen_r=np.zeros(R)\n",
        "chosen_r2=np.zeros(R)\n",
        "\n",
        "# zmienne z 2 w nazwie -- nowe\n",
        "\n",
        "sigma2=cp.copy(sigma)\n",
        "\n",
        "\n",
        "y=np.zeros(R)\n",
        "y2=np.zeros(R)\n",
        "\n",
        "for k in np.arange(R):  \n",
        "\n",
        "\n",
        "  \n",
        "    # classical metropolis, uniform distribution\n",
        "    nr_rand=np.random.choice(n_pairs,1,p=distribution_on_pairs_uniform)[0]\n",
        "    chosen_r[k]=nr_rand\n",
        "    i,j=ints2pairs[nr_rand]    \n",
        "\t\n",
        "    sigma_candidate=cp.copy(sigma)\n",
        "    sigma_candidate[[i,j]]=sigma_candidate[[j,i]]\n",
        "   \n",
        "    alpha = np.min([1,np.exp((calc_dist(M,sigma)-calc_dist(M,sigma_candidate))/tau)])\n",
        " \n",
        "    if np.random.rand(1)[0]<=alpha:\n",
        "        sigma=cp.copy(sigma_candidate)\n",
        "\n",
        "    y[k]=calc_dist(M,sigma)\n",
        "\n",
        "# NEW\n",
        "    nr_rand2=np.random.choice(n_pairs,1,p=distribution_on_pairs_ver1)[0]\n",
        "    chosen_r2[k]=nr_rand2\n",
        "    i,j=ints2pairs[nr_rand2]    \n",
        "\t\n",
        "    sigma2_candidate=cp.copy(sigma2)\n",
        "    sigma2_candidate[[i,j]]=sigma2_candidate[[j,i]]\n",
        "   \n",
        "    alpha2 = np.min([1,np.exp((calc_dist(M,sigma2)-calc_dist(M,sigma2_candidate))/tau)])\n",
        " \n",
        "    if np.random.rand(1)[0]<=alpha2:\n",
        "        sigma2=cp.copy(sigma2_candidate)\n",
        "\n",
        "    y2[k]=calc_dist(M,sigma2)\n",
        "    \n",
        "    \n",
        "\n",
        "plt.figure(1)\n",
        "plt.plot(np.arange(R),y, label=\"classical\", color=\"blue\")\n",
        "plt.plot(np.arange(R),y2, label=\"new\", color=\"orange\")\n",
        "\n",
        "plt.legend()\n",
        "plt.title(\"Distance vs. step\")\n",
        "\n",
        "plt.figure(2)\n",
        "plt.hist(chosen_r,density=True, bins=300,alpha=0.5, color=\"blue\", label=\"histogram --distribution_on_pairs_uniform\")\n",
        "plt.legend()\n",
        "plt.figure(3)\n",
        "plt.hist(chosen_r2,density=True, bins=300,alpha=0.5, color=\"orange\", label=\"histogram --distribution_on_pairs_ver1\")\n",
        "plt.legend()\n",
        "plt.show()\n",
        "\n",
        "\n",
        "\t\n"
      ],
      "execution_count": 462,
      "outputs": [
        {
          "output_type": "stream",
          "name": "stderr",
          "text": [
            "/usr/local/lib/python3.7/dist-packages/ipykernel_launcher.py:47: RuntimeWarning: overflow encountered in exp\n",
            "/usr/local/lib/python3.7/dist-packages/ipykernel_launcher.py:32: RuntimeWarning: overflow encountered in exp\n"
          ]
        },
        {
          "output_type": "display_data",
          "data": {
            "text/plain": [
              "<Figure size 432x288 with 1 Axes>"
            ],
            "image/png": "[encoded data removed]"
          },
          "metadata": {
            "needs_background": "light"
          }
        },
        {
          "output_type": "display_data",
          "data": {
            "text/plain": [
              "<Figure size 432x288 with 1 Axes>"
            ],
            "image/png": "[encoded data removed]"
          },
          "metadata": {
            "needs_background": "light"
          }
        },
        {
          "output_type": "display_data",
          "data": {
            "text/plain": [
              "<Figure size 432x288 with 1 Axes>"
            ],
            "image/png": "[encoded data removed]"
          },
          "metadata": {
            "needs_background": "light"
          }
        }
      ]
    },
    {
      "cell_type": "code",
      "source": [
        "np.min(distribution_on_pairs_uniform)\n"
      ],
      "metadata": {
        "colab": {
          "base_uri": "https://localhost:8080/"
        },
        "id": "aT587pIV9baS",
        "outputId": "4cd4ccc7-1950-4d31-aaa4-9b12a3e7f0c2"
      },
      "execution_count": 439,
      "outputs": [
        {
          "output_type": "execute_result",
          "data": {
            "text/plain": [
              "3.21285140562249e-05"
            ]
          },
          "metadata": {},
          "execution_count": 439
        }
      ]
    },
    {
      "cell_type": "code",
      "source": [
        "np.min(distribution_on_pairs_uniform)-np.max(distribution_on_pairs_uniform)"
      ],
      "metadata": {
        "colab": {
          "base_uri": "https://localhost:8080/"
        },
        "id": "tXInViXT_-ph",
        "outputId": "2485526f-8f34-45eb-e62a-caa9ec05a283"
      },
      "execution_count": 440,
      "outputs": [
        {
          "output_type": "execute_result",
          "data": {
            "text/plain": [
              "0.0"
            ]
          },
          "metadata": {},
          "execution_count": 440
        }
      ]
    },
    {
      "cell_type": "code",
      "source": [
        "R2=10**4\n",
        "\n",
        "chs=np.zeros(R2)\n",
        "chs2=np.zeros(R2)\n",
        "\n",
        "for k in np.arange(R2):\n",
        "  nr_rand=np.random.choice(n_pairs,1,p=distribution_on_pairs_uniform)[0]\n",
        "  chs[k]=nr_rand\n",
        "  nr_rand2=np.random.choice(n_pairs,1,p=distribution_on_pairs_ver1)[0]\n",
        "  chs2[k]=nr_rand2\n",
        "\n",
        "plt.figure(1)\n",
        "plt.hist(chs,density=True, bins=200,alpha=0.5, color=\"blue\", label=\"histogram --distribution_on_pairs_uniform\");\n",
        "plt.figure(2)\n",
        "plt.hist(chs2,density=True, bins=200,alpha=0.5, color=\"orange\", label=\"histogram --distribution_on_pairs_ver1\");\n",
        "plt.show()\n"
      ],
      "metadata": {
        "colab": {
          "base_uri": "https://localhost:8080/",
          "height": 535
        },
        "id": "Jtr56TrHAVF4",
        "outputId": "cff3d018-2542-4c4f-805a-9e06b1f23a04"
      },
      "execution_count": 443,
      "outputs": [
        {
          "output_type": "display_data",
          "data": {
            "text/plain": [
              "<Figure size 432x288 with 1 Axes>"
            ],
            "image/png": "[encoded data removed]"
          },
          "metadata": {
            "needs_background": "light"
          }
        },
        {
          "output_type": "display_data",
          "data": {
            "text/plain": [
              "<Figure size 432x288 with 1 Axes>"
            ],
            "image/png": "[encoded data removed]"
          },
          "metadata": {
            "needs_background": "light"
          }
        }
      ]
    },
    {
      "cell_type": "code",
      "source": [],
      "metadata": {
        "id": "bYyCHq0DA8D3"
      },
      "execution_count": null,
      "outputs": []
    }
  ]
}